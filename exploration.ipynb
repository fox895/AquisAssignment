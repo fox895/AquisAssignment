{
 "cells": [
  {
   "cell_type": "code",
   "execution_count": 1,
   "id": "02fc8823",
   "metadata": {},
   "outputs": [],
   "source": [
    "import pandas as pd"
   ]
  },
  {
   "cell_type": "markdown",
   "id": "cee6a54f",
   "metadata": {},
   "source": [
    "Let's see how big is the file. Can I load it in memory?"
   ]
  },
  {
   "cell_type": "code",
   "execution_count": 2,
   "id": "19134fe8",
   "metadata": {},
   "outputs": [
    {
     "name": "stdout",
     "output_type": "stream",
     "text": [
      "102 MiB\n"
     ]
    }
   ],
   "source": [
    "import os\n",
    "print(f\"{os.path.getsize('pretrade_current.txt')//1024**2} MiB\")"
   ]
  },
  {
   "cell_type": "markdown",
   "id": "26f5a934",
   "metadata": {},
   "source": [
    "102 MiB assuming it is not compressed (since it is a txt file) we can safely process the whole file all togheter.\n",
    "Let's see how many lines..."
   ]
  },
  {
   "cell_type": "code",
   "execution_count": 3,
   "id": "8b4962e6",
   "metadata": {},
   "outputs": [
    {
     "name": "stdout",
     "output_type": "stream",
     "text": [
      "751320\n"
     ]
    }
   ],
   "source": [
    "with open('pretrade_current.txt', 'r') as f:\n",
    "    total_len = len(f.readlines())\n",
    "    print(total_len)\n",
    "    "
   ]
  },
  {
   "cell_type": "markdown",
   "id": "766bf6d9",
   "metadata": {},
   "source": [
    "Check the head to see the schema of a single line"
   ]
  },
  {
   "cell_type": "code",
   "execution_count": 4,
   "id": "5ba83a4d",
   "metadata": {},
   "outputs": [],
   "source": [
    "with open('pretrade_current.txt', 'r') as f:\n",
    "    head_file = [f.readline() for _ in range(10)]"
   ]
  },
  {
   "cell_type": "code",
   "execution_count": 5,
   "id": "721ef050",
   "metadata": {},
   "outputs": [
    {
     "name": "stdout",
     "output_type": "stream",
     "text": [
      "0 {{\"msgType_\":8,\"length_\":36,\"seqNo_\":280},\"security_\":{\"securityId_\":4749,\"umtf_\":\"FUTRl\",\"isin_\":\"GB00BYZN9041\",\"currency_\":\"GBX\",\"mic_\":\"XLON\",\"tickTableId_\":33,\"flags_\":\"{\"b_\":{\"closingEnabled_\":1,\"testStock_\":0,\"illiquid\":0,\"live_\":1,\"aodEnabled_\":1},\"v_\":25}}}\n",
      "\n"
     ]
    }
   ],
   "source": [
    "print(head_file[0])"
   ]
  },
  {
   "cell_type": "markdown",
   "id": "a450a0a3",
   "metadata": {},
   "source": [
    "Ok I can filter useful line from timestamps using a regex rule..."
   ]
  },
  {
   "cell_type": "code",
   "execution_count": 6,
   "id": "9f775090",
   "metadata": {},
   "outputs": [],
   "source": [
    "import re\n",
    "\n",
    "# This works to extract all {} and remove noise\n",
    "rule = re.compile('(?:\\{(\\{.*\\}),(\\\".*\\\":\\{.*\\})\\})')"
   ]
  },
  {
   "cell_type": "code",
   "execution_count": 7,
   "id": "fd11dbf5",
   "metadata": {},
   "outputs": [
    {
     "data": {
      "text/plain": [
       "'{{\"msgType_\":8,\"length_\":36,\"seqNo_\":280},\"security_\":{\"securityId_\":4749,\"umtf_\":\"FUTRl\",\"isin_\":\"GB00BYZN9041\",\"currency_\":\"GBX\",\"mic_\":\"XLON\",\"tickTableId_\":33,\"flags_\":\"{\"b_\":{\"closingEnabled_\":1,\"testStock_\":0,\"illiquid\":0,\"live_\":1,\"aodEnabled_\":1},\"v_\":25}}}'"
      ]
     },
     "execution_count": 7,
     "metadata": {},
     "output_type": "execute_result"
    }
   ],
   "source": [
    "rule.search(head_file[0]).group(0)"
   ]
  },
  {
   "cell_type": "code",
   "execution_count": 8,
   "id": "aacc1f61",
   "metadata": {},
   "outputs": [
    {
     "name": "stdout",
     "output_type": "stream",
     "text": [
      "None\n"
     ]
    }
   ],
   "source": [
    "print(rule.search('1646824440194545000 (2022-03-09T11:14:00.194545) 14'))"
   ]
  },
  {
   "cell_type": "code",
   "execution_count": null,
   "id": "f1f90a2f",
   "metadata": {},
   "outputs": [],
   "source": [
    "Maybe it would have been easier to match the time stamp... nevermind..."
   ]
  },
  {
   "cell_type": "code",
   "execution_count": 9,
   "id": "21d51977",
   "metadata": {},
   "outputs": [],
   "source": [
    "with open('pretrade_current.txt', 'r') as f:\n",
    "    group1 = []\n",
    "    group2 = []\n",
    "    for line in f:\n",
    "        match = rule.search(line)\n",
    "        if match:\n",
    "            group1.append(match.group(1)) # Group 1 is the first {...} element with msgType\n",
    "             group2.append(match.group(2)) # Group 2 is the rest \"security\", \"book...\""
   ]
  },
  {
   "cell_type": "code",
   "execution_count": 10,
   "id": "282c65dd",
   "metadata": {},
   "outputs": [
    {
     "data": {
      "text/plain": [
       "True"
      ]
     },
     "execution_count": 10,
     "metadata": {},
     "output_type": "execute_result"
    }
   ],
   "source": [
    "len(group1) == len(group2)"
   ]
  },
  {
   "cell_type": "markdown",
   "id": "a7166e27",
   "metadata": {},
   "source": [
    "We may need to consider only two types of lines, type=8 and type=12, let's continue to play with regex"
   ]
  },
  {
   "cell_type": "code",
   "execution_count": 11,
   "id": "3b378194",
   "metadata": {},
   "outputs": [
    {
     "data": {
      "text/plain": [
       "'{{\"msgType_\":8,\"length_\":36,\"seqNo_\":280},\"security_\":{\"securityId_\":4749,\"umtf_\":\"FUTRl\",\"isin_\":\"GB00BYZN9041\",\"currency_\":\"GBX\",\"mic_\":\"XLON\",\"tickTableId_\":33,\"flags_\":\"{\"b_\":{\"closingEnabled_\":1,\"testStock_\":0,\"illiquid\":0,\"live_\":1,\"aodEnabled_\":1},\"v_\":25}}}'"
      ]
     },
     "execution_count": 11,
     "metadata": {},
     "output_type": "execute_result"
    }
   ],
   "source": [
    "stringa = '''{{\"msgType_\":8,\"length_\":36,\"seqNo_\":280},\"security_\":{\"securityId_\":4749,\"umtf_\":\"FUTRl\",\"isin_\":\"GB00BYZN9041\",\"currency_\":\"GBX\",\"mic_\":\"XLON\",\"tickTableId_\":33,\"flags_\":\"{\"b_\":{\"closingEnabled_\":1,\"testStock_\":0,\"illiquid\":0,\"live_\":1,\"aodEnabled_\":1},\"v_\":25}}}'''\n",
    "\n",
    "rule_type8 = re.compile('\"msgType_\":8')\n",
    "rule_type12 = re.compile('\"msgType_\":12')\n",
    "rule_typeX = re.compile('\"msgType_\":\\\\d')\n",
    "\n",
    "a = rule_typeX.search(stringa)\n",
    "a.string"
   ]
  },
  {
   "cell_type": "markdown",
   "id": "ce3b0aca",
   "metadata": {},
   "source": [
    "Ok new regex based filtering, will pick up all different type of msgType assuming they will be useful in a possible future"
   ]
  },
  {
   "cell_type": "code",
   "execution_count": 12,
   "id": "95bd7b48",
   "metadata": {},
   "outputs": [
    {
     "name": "stdout",
     "output_type": "stream",
     "text": [
      "dict_keys(['8', '10', '11', '12'])\n"
     ]
    }
   ],
   "source": [
    "filter_rule = re.compile('\"msgType_\":(\\\\d+)')\n",
    "\n",
    "with open('pretrade_current.txt', 'r') as f:\n",
    "    groups = {}\n",
    "    rest = []\n",
    "    for line in f:\n",
    "        line_match = filter_rule.search(line)\n",
    "        if line_match:\n",
    "            group_match = line_match.group(1)\n",
    "\n",
    "            if group_match not in groups.keys():\n",
    "                groups[group_match] = []\n",
    "\n",
    "            groups[group_match].append(line_match.string)\n",
    "        else :\n",
    "            rest.append(line)\n",
    "\n",
    "\n",
    "print(groups.keys())"
   ]
  },
  {
   "cell_type": "code",
   "execution_count": 13,
   "id": "1b50b430",
   "metadata": {},
   "outputs": [
    {
     "name": "stdout",
     "output_type": "stream",
     "text": [
      "1693\n",
      "39\n",
      "69186\n",
      "606775\n",
      "sum=677693\n",
      "total_len-sum=73627\n"
     ]
    }
   ],
   "source": [
    "sum = 0\n",
    "\n",
    "for key in groups.keys():\n",
    "    count = len(groups[key])\n",
    "    print(count)\n",
    "    sum += count\n",
    "\n",
    "print(f\"{sum=}\")\n",
    "print(f\"{total_len-sum=}\")\n",
    "# print(f\"{len(rest)=}\")"
   ]
  },
  {
   "cell_type": "code",
   "execution_count": 22,
   "id": "21aaa13f",
   "metadata": {},
   "outputs": [
    {
     "data": {
      "text/plain": [
       "['1646812740000460000 (2022-03-09T07:59:00.000460) 1\\n',\n",
       " '1646812740000541000 (2022-03-09T07:59:00.000541) 1\\n',\n",
       " '1646812740000509000 (2022-03-09T07:59:00.000509) 1\\n',\n",
       " '1646812740000509000 (2022-03-09T07:59:00.000509) 1\\n',\n",
       " '1646812740000509000 (2022-03-09T07:59:00.000509) 1\\n',\n",
       " '1646812740000485000 (2022-03-09T07:59:00.000485) 1\\n',\n",
       " '1646812740000460000 (2022-03-09T07:59:00.000460) 1\\n',\n",
       " '1646812740000383000 (2022-03-09T07:59:00.000383) 1\\n',\n",
       " '1646812740000431000 (2022-03-09T07:59:00.000431) 1\\n',\n",
       " '1646812740000408000 (2022-03-09T07:59:00.000408) 1\\n',\n",
       " '1646812740000460000 (2022-03-09T07:59:00.000460) 1\\n',\n",
       " '1646812740000509000 (2022-03-09T07:59:00.000509) 1\\n',\n",
       " '1646812740000509000 (2022-03-09T07:59:00.000509) 1\\n',\n",
       " '1646812740000485000 (2022-03-09T07:59:00.000485) 1\\n',\n",
       " '1646812740000352000 (2022-03-09T07:59:00.000352) 1\\n',\n",
       " '1646812740000352000 (2022-03-09T07:59:00.000352) 1\\n',\n",
       " '1646812740000282000 (2022-03-09T07:59:00.000282) 2\\n',\n",
       " '1646812740000541000 (2022-03-09T07:59:00.000541) 1\\n',\n",
       " '1646812740000509000 (2022-03-09T07:59:00.000509) 1\\n',\n",
       " '1646812740000460000 (2022-03-09T07:59:00.000460) 1\\n']"
      ]
     },
     "execution_count": 22,
     "metadata": {},
     "output_type": "execute_result"
    }
   ],
   "source": [
    "import random\n",
    "random.choices(rest[:10], k=20)"
   ]
  },
  {
   "cell_type": "markdown",
   "id": "45a7be88",
   "metadata": {},
   "source": [
    "Ok now let's parse the useful messages..."
   ]
  },
  {
   "cell_type": "code",
   "execution_count": 23,
   "id": "d74fc220",
   "metadata": {},
   "outputs": [],
   "source": [
    "list8 = [re.search('(?:\\\"\\\\w+\\\")\\\\:(\\\\{.*\\\\})\\\\}$', entry).group(1) for entry in groups['8']]\n",
    "list12 = [re.search('(?:\\\"\\\\w+\\\")\\\\:(\\\\{.*\\\\})\\\\}$', entry).group(1) for entry in groups['12']]"
   ]
  },
  {
   "cell_type": "code",
   "execution_count": 24,
   "id": "5af49f4a",
   "metadata": {},
   "outputs": [
    {
     "name": "stdout",
     "output_type": "stream",
     "text": [
      "{\"securityId_\":4749,\"umtf_\":\"FUTRl\",\"isin_\":\"GB00BYZN9041\",\"currency_\":\"GBX\",\"mic_\":\"XLON\",\"tickTableId_\":33,\"flags_\":\"{\"b_\":{\"closingEnabled_\":1,\"testStock_\":0,\"illiquid\":0,\"live_\":1,\"aodEnabled_\":1},\"v_\":25}}\n"
     ]
    },
    {
     "ename": "NameError",
     "evalue": "name 'ast' is not defined",
     "output_type": "error",
     "traceback": [
      "\u001b[0;31m---------------------------------------------------------------------------\u001b[0m",
      "\u001b[0;31mNameError\u001b[0m                                 Traceback (most recent call last)",
      "\u001b[1;32m/home/fox/Documents/AcquisExchange/exploration.ipynb Cell 18'\u001b[0m in \u001b[0;36m<cell line: 3>\u001b[0;34m()\u001b[0m\n\u001b[1;32m      <a href='vscode-notebook-cell:/home/fox/Documents/AcquisExchange/exploration.ipynb#ch0000017?line=0'>1</a>\u001b[0m \u001b[39mprint\u001b[39m(list8[\u001b[39m0\u001b[39m])\n\u001b[1;32m      <a href='vscode-notebook-cell:/home/fox/Documents/AcquisExchange/exploration.ipynb#ch0000017?line=1'>2</a>\u001b[0m \u001b[39m# eval(list8[9])\u001b[39;00m\n\u001b[0;32m----> <a href='vscode-notebook-cell:/home/fox/Documents/AcquisExchange/exploration.ipynb#ch0000017?line=2'>3</a>\u001b[0m ast\u001b[39m.\u001b[39mliteral_eval(list8[\u001b[39m9\u001b[39m])\n",
      "\u001b[0;31mNameError\u001b[0m: name 'ast' is not defined"
     ]
    }
   ],
   "source": [
    "print(list8[0])\n",
    "# eval(list8[9])\n",
    "ast.literal_eval(list8[9])"
   ]
  },
  {
   "cell_type": "code",
   "execution_count": null,
   "id": "fa68d527",
   "metadata": {},
   "outputs": [
    {
     "ename": "NameError",
     "evalue": "name 'list12' is not defined",
     "output_type": "error",
     "traceback": [
      "\u001b[0;31m---------------------------------------------------------------------------\u001b[0m",
      "\u001b[0;31mNameError\u001b[0m                                 Traceback (most recent call last)",
      "\u001b[1;32m/home/fox/Documents/AcquisExchange/exploration.ipynb Cell 19'\u001b[0m in \u001b[0;36m<cell line: 1>\u001b[0;34m()\u001b[0m\n\u001b[0;32m----> <a href='vscode-notebook-cell:/home/fox/Documents/AcquisExchange/exploration.ipynb#ch0000018?line=0'>1</a>\u001b[0m \u001b[39mprint\u001b[39m(list12[\u001b[39m9\u001b[39m])\n\u001b[1;32m      <a href='vscode-notebook-cell:/home/fox/Documents/AcquisExchange/exploration.ipynb#ch0000018?line=1'>2</a>\u001b[0m \u001b[39m# eval(list12[9])\u001b[39;00m\n\u001b[1;32m      <a href='vscode-notebook-cell:/home/fox/Documents/AcquisExchange/exploration.ipynb#ch0000018?line=2'>3</a>\u001b[0m ast\u001b[39m.\u001b[39mliteral_eval(list12[\u001b[39m9\u001b[39m])\n",
      "\u001b[0;31mNameError\u001b[0m: name 'list12' is not defined"
     ]
    }
   ],
   "source": [
    "print(list12[9])\n",
    "# eval(list12[9])\n",
    "ast.literal_eval(list12[9])"
   ]
  },
  {
   "cell_type": "markdown",
   "id": "3d62be45",
   "metadata": {},
   "source": [
    "No luck with literal evaluation need to parse by hand"
   ]
  },
  {
   "cell_type": "markdown",
   "id": "e916e92d",
   "metadata": {},
   "source": [
    "Sadly I cannot parse directly the messages into dictionaries or JSON (they appear to me to not be correctly formatted for this)"
   ]
  },
  {
   "cell_type": "markdown",
   "id": "1bb87950",
   "metadata": {},
   "source": [
    "Ok will parse directly the useful entities for type 8 and 12, this could be problematic if I had more types."
   ]
  },
  {
   "cell_type": "code",
   "execution_count": null,
   "id": "a6eeffd7",
   "metadata": {},
   "outputs": [],
   "source": [
    "# {\"securityId_\":4749,\"umtf_\":\"FUTRl\",\"isin_\":\"GB00BYZN9041\",\"currency_\":\"GBX\",\"mic_\":\"XLON\",\"tickTableId_\":33,\"flags_\":\"{\"b_\":{\"closingEnabled_\":1,\"testStock_\":0,\"illiquid\":0,\"live_\":1,\"aodEnabled_\":1},\"v_\":25}}\n",
    "\n",
    "parse_string8 = (\n",
    "    '\\\"securityId_\\\"\\\\:(\\\\d+),' #1\n",
    "    '\\\"umtf_\\\"\\\\:\\\"(\\\\w+)\\\",' #2\n",
    "    '\\\"isin_\\\"\\\\:\\\"(\\\\w+)\\\",' #3\n",
    "    '\\\"currency_\\\"\\\\:\\\"(\\\\w+)\\\",' #4\n",
    "    '\\\"mic_\\\"\\\\:\\\"(\\\\w+)\\\",' #5\n",
    "    '\\\"tickTableId_\\\"\\\\:(\\\\d+),' #6\n",
    ")\n",
    "\n",
    "# {\"securityId_\":2,\"side_\":SELL,\"quantity_\":390,\"price_\":119350000,\"orderId_\":443445}\n",
    "parse_string12 = (\n",
    "    '\\\"securityId_\\\"\\\\:(\\\\d+),' #1\n",
    "    '\\\"side_\\\"\\\\:(\\\\w+),' #2\n",
    "    '\\\"quantity_\\\"\\\\:(\\\\d+),' #3\n",
    "    '\\\"price_\\\"\\\\:(\\\\d+),' #4\n",
    "    '\\\"orderId_\\\"\\\\:(\\\\d+)' #5\n",
    "    # '\\\\}'\n",
    ")"
   ]
  },
  {
   "cell_type": "code",
   "execution_count": 26,
   "id": "633f2f12",
   "metadata": {},
   "outputs": [
    {
     "name": "stdout",
     "output_type": "stream",
     "text": [
      "{\"securityId_\":3466,\"umtf_\":\"ITPp\",\"isin_\":\"FR0004024222\",\"currency_\":\"EUR\",\"mic_\":\"XPAR\",\"tickTableId_\":32,\"flags_\":\"{\"b_\":{\"closingEnabled_\":0,\"testStock_\":0,\"illiquid\":0,\"live_\":1,\"aodEnabled_\":0},\"v_\":8}}\n",
      "<re.Match object; span=(1, 108), match='\"securityId_\":3466,\"umtf_\":\"ITPp\",\"isin_\":\"FR0004>\n",
      "3466\n",
      "ITPp\n",
      "FR0004024222\n",
      "EUR\n",
      "XPAR\n",
      "32\n"
     ]
    }
   ],
   "source": [
    "print(list8[9])\n",
    "print(re.search(parse_string8, list8[9]))\n",
    "for i in range(1, 7):\n",
    "    print(re.search(parse_string8, list8[9]).group(i))"
   ]
  },
  {
   "cell_type": "code",
   "execution_count": 27,
   "id": "2367535b",
   "metadata": {},
   "outputs": [
    {
     "data": {
      "text/html": [
       "<div>\n",
       "<style scoped>\n",
       "    .dataframe tbody tr th:only-of-type {\n",
       "        vertical-align: middle;\n",
       "    }\n",
       "\n",
       "    .dataframe tbody tr th {\n",
       "        vertical-align: top;\n",
       "    }\n",
       "\n",
       "    .dataframe thead th {\n",
       "        text-align: right;\n",
       "    }\n",
       "</style>\n",
       "<table border=\"1\" class=\"dataframe\">\n",
       "  <thead>\n",
       "    <tr style=\"text-align: right;\">\n",
       "      <th></th>\n",
       "      <th>securityId</th>\n",
       "      <th>umtf</th>\n",
       "      <th>isin</th>\n",
       "      <th>currency</th>\n",
       "      <th>mic</th>\n",
       "      <th>tickTableId</th>\n",
       "    </tr>\n",
       "  </thead>\n",
       "  <tbody>\n",
       "    <tr>\n",
       "      <th>0</th>\n",
       "      <td>4749</td>\n",
       "      <td>FUTRl</td>\n",
       "      <td>GB00BYZN9041</td>\n",
       "      <td>GBX</td>\n",
       "      <td>XLON</td>\n",
       "      <td>33</td>\n",
       "    </tr>\n",
       "    <tr>\n",
       "      <th>1</th>\n",
       "      <td>4491</td>\n",
       "      <td>BVCl</td>\n",
       "      <td>IL0010849045</td>\n",
       "      <td>GBX</td>\n",
       "      <td>XLON</td>\n",
       "      <td>32</td>\n",
       "    </tr>\n",
       "    <tr>\n",
       "      <th>2</th>\n",
       "      <td>4257</td>\n",
       "      <td>AVONl</td>\n",
       "      <td>GB0000667013</td>\n",
       "      <td>GBX</td>\n",
       "      <td>XLON</td>\n",
       "      <td>33</td>\n",
       "    </tr>\n",
       "    <tr>\n",
       "      <th>3</th>\n",
       "      <td>3473</td>\n",
       "      <td>TOKMAh</td>\n",
       "      <td>FI4000197934</td>\n",
       "      <td>EUR</td>\n",
       "      <td>XHEL</td>\n",
       "      <td>33</td>\n",
       "    </tr>\n",
       "    <tr>\n",
       "      <th>4</th>\n",
       "      <td>3472</td>\n",
       "      <td>UIEc</td>\n",
       "      <td>BSP951331318</td>\n",
       "      <td>DKK</td>\n",
       "      <td>XCSE</td>\n",
       "      <td>31</td>\n",
       "    </tr>\n",
       "  </tbody>\n",
       "</table>\n",
       "</div>"
      ],
      "text/plain": [
       "  securityId    umtf          isin currency   mic tickTableId\n",
       "0       4749   FUTRl  GB00BYZN9041      GBX  XLON          33\n",
       "1       4491    BVCl  IL0010849045      GBX  XLON          32\n",
       "2       4257   AVONl  GB0000667013      GBX  XLON          33\n",
       "3       3473  TOKMAh  FI4000197934      EUR  XHEL          33\n",
       "4       3472    UIEc  BSP951331318      DKK  XCSE          31"
      ]
     },
     "execution_count": 27,
     "metadata": {},
     "output_type": "execute_result"
    }
   ],
   "source": [
    "\n",
    "\n",
    "list_dict8 = []\n",
    "for elements in list8:\n",
    "    match = re.search(parse_string8, elements)\n",
    "    if match:\n",
    "        tmp_dict = {\n",
    "            'securityId': match.group(1),\n",
    "            'umtf': match.group(2),\n",
    "            'isin': match.group(3),\n",
    "            'currency': match.group(4),\n",
    "            'mic': match.group(5),\n",
    "            'tickTableId': match.group(6),\n",
    "        }\n",
    "        list_dict8.append(tmp_dict)\n",
    "\n",
    "# print(list_dict8)\n",
    "df8 = pd.DataFrame(list_dict8)  \n",
    "df8.head()\n"
   ]
  },
  {
   "cell_type": "code",
   "execution_count": 28,
   "id": "bfa6c8ec",
   "metadata": {},
   "outputs": [
    {
     "name": "stdout",
     "output_type": "stream",
     "text": [
      "{\"securityId_\":2,\"side_\":SELL,\"quantity_\":390,\"price_\":119350000,\"orderId_\":443445}\n",
      "\"securityId_\"\\:(\\d+),\"side_\"\\:(\\w+),\"quantity_\"\\:(\\d+),\"price_\"\\:(\\d+),\"orderId_\"\\:(\\d+)\n",
      "<re.Match object; span=(1, 81), match='\"securityId_\":13,\"side_\":SELL,\"quantity_\":750,\"pr>\n",
      "2\n",
      "SELL\n",
      "390\n",
      "119350000\n",
      "443445\n"
     ]
    }
   ],
   "source": [
    "print(list12[9])\n",
    "print(parse_string12)\n",
    "print(re.search(parse_string12, list12[22]))\n",
    "for i in range(1,6):\n",
    "    print(re.search(parse_string12, list12[9]).group(i))"
   ]
  },
  {
   "cell_type": "code",
   "execution_count": 83,
   "id": "0d299a05",
   "metadata": {},
   "outputs": [
    {
     "data": {
      "text/html": [
       "<div>\n",
       "<style scoped>\n",
       "    .dataframe tbody tr th:only-of-type {\n",
       "        vertical-align: middle;\n",
       "    }\n",
       "\n",
       "    .dataframe tbody tr th {\n",
       "        vertical-align: top;\n",
       "    }\n",
       "\n",
       "    .dataframe thead th {\n",
       "        text-align: right;\n",
       "    }\n",
       "</style>\n",
       "<table border=\"1\" class=\"dataframe\">\n",
       "  <thead>\n",
       "    <tr style=\"text-align: right;\">\n",
       "      <th></th>\n",
       "      <th>securityId</th>\n",
       "      <th>side</th>\n",
       "      <th>quantity</th>\n",
       "      <th>price</th>\n",
       "      <th>orderId</th>\n",
       "    </tr>\n",
       "  </thead>\n",
       "  <tbody>\n",
       "    <tr>\n",
       "      <th>0</th>\n",
       "      <td>2</td>\n",
       "      <td>BUY</td>\n",
       "      <td>437</td>\n",
       "      <td>116950000</td>\n",
       "      <td>480351</td>\n",
       "    </tr>\n",
       "    <tr>\n",
       "      <th>1</th>\n",
       "      <td>2</td>\n",
       "      <td>BUY</td>\n",
       "      <td>500</td>\n",
       "      <td>117000000</td>\n",
       "      <td>222046</td>\n",
       "    </tr>\n",
       "    <tr>\n",
       "      <th>2</th>\n",
       "      <td>2</td>\n",
       "      <td>BUY</td>\n",
       "      <td>396</td>\n",
       "      <td>117450000</td>\n",
       "      <td>432574</td>\n",
       "    </tr>\n",
       "    <tr>\n",
       "      <th>3</th>\n",
       "      <td>2</td>\n",
       "      <td>BUY</td>\n",
       "      <td>446</td>\n",
       "      <td>117850000</td>\n",
       "      <td>40</td>\n",
       "    </tr>\n",
       "    <tr>\n",
       "      <th>4</th>\n",
       "      <td>2</td>\n",
       "      <td>BUY</td>\n",
       "      <td>500</td>\n",
       "      <td>118050000</td>\n",
       "      <td>447953</td>\n",
       "    </tr>\n",
       "  </tbody>\n",
       "</table>\n",
       "</div>"
      ],
      "text/plain": [
       "  securityId side quantity      price orderId\n",
       "0          2  BUY      437  116950000  480351\n",
       "1          2  BUY      500  117000000  222046\n",
       "2          2  BUY      396  117450000  432574\n",
       "3          2  BUY      446  117850000      40\n",
       "4          2  BUY      500  118050000  447953"
      ]
     },
     "execution_count": 83,
     "metadata": {},
     "output_type": "execute_result"
    }
   ],
   "source": [
    "list_dict12 = []\n",
    "for elements in list12:\n",
    "    match = re.search(parse_string12, elements)\n",
    "    if match:\n",
    "        tmp_dict = {\n",
    "            'securityId': match.group(1),\n",
    "            'side': match.group(2),\n",
    "            'quantity': match.group(3),\n",
    "            'price': match.group(4),\n",
    "            'orderId': match.group(5),\n",
    "        }\n",
    "        list_dict12.append(tmp_dict)\n",
    "\n",
    "# print(list_dict12)\n",
    "df12 = pd.DataFrame(list_dict12)  \n",
    "df12.head()\n"
   ]
  },
  {
   "cell_type": "markdown",
   "id": "e4d885c0",
   "metadata": {},
   "source": [
    "Let's start to process it"
   ]
  },
  {
   "cell_type": "code",
   "execution_count": 112,
   "id": "cb19f70e",
   "metadata": {},
   "outputs": [],
   "source": [
    "df12_typed = df12.astype({\n",
    "    'securityId': 'Int64',\n",
    "    'side': 'category',\n",
    "    'quantity': 'Int64',\n",
    "    'price': 'Int64',\n",
    "    'orderId': 'Int64',\n",
    "})"
   ]
  },
  {
   "cell_type": "code",
   "execution_count": 171,
   "id": "4ceed4c3",
   "metadata": {},
   "outputs": [],
   "source": [
    "df12_unique = df12_typed.drop_duplicates(keep='last')"
   ]
  },
  {
   "cell_type": "markdown",
   "id": "8b350968",
   "metadata": {},
   "source": [
    "I decided to keep the latest one of the duplicates. Assuming there have been corrections in the process generating this messages, the last one should be the correct one."
   ]
  },
  {
   "cell_type": "markdown",
   "id": "5cac573d",
   "metadata": {},
   "source": [
    "Will start to generate the aggregate data using groupby function on identityId which is shared with type8 and side which is what has been requested by the assignment"
   ]
  },
  {
   "cell_type": "code",
   "execution_count": 185,
   "id": "120368dc",
   "metadata": {},
   "outputs": [
    {
     "data": {
      "text/html": [
       "<div>\n",
       "<style scoped>\n",
       "    .dataframe tbody tr th:only-of-type {\n",
       "        vertical-align: middle;\n",
       "    }\n",
       "\n",
       "    .dataframe tbody tr th {\n",
       "        vertical-align: top;\n",
       "    }\n",
       "\n",
       "    .dataframe thead th {\n",
       "        text-align: right;\n",
       "    }\n",
       "</style>\n",
       "<table border=\"1\" class=\"dataframe\">\n",
       "  <thead>\n",
       "    <tr style=\"text-align: right;\">\n",
       "      <th>side</th>\n",
       "      <th>Total Buy Quantity</th>\n",
       "      <th>Total Sell Quantity</th>\n",
       "    </tr>\n",
       "    <tr>\n",
       "      <th>securityId</th>\n",
       "      <th></th>\n",
       "      <th></th>\n",
       "    </tr>\n",
       "  </thead>\n",
       "  <tbody>\n",
       "    <tr>\n",
       "      <th>2</th>\n",
       "      <td>219426</td>\n",
       "      <td>243127</td>\n",
       "    </tr>\n",
       "    <tr>\n",
       "      <th>8</th>\n",
       "      <td>200</td>\n",
       "      <td>0</td>\n",
       "    </tr>\n",
       "    <tr>\n",
       "      <th>13</th>\n",
       "      <td>227077</td>\n",
       "      <td>232121</td>\n",
       "    </tr>\n",
       "    <tr>\n",
       "      <th>22</th>\n",
       "      <td>0</td>\n",
       "      <td>10</td>\n",
       "    </tr>\n",
       "    <tr>\n",
       "      <th>29</th>\n",
       "      <td>74594</td>\n",
       "      <td>72795</td>\n",
       "    </tr>\n",
       "    <tr>\n",
       "      <th>...</th>\n",
       "      <td>...</td>\n",
       "      <td>...</td>\n",
       "    </tr>\n",
       "    <tr>\n",
       "      <th>3460</th>\n",
       "      <td>1432</td>\n",
       "      <td>1074</td>\n",
       "    </tr>\n",
       "    <tr>\n",
       "      <th>3461</th>\n",
       "      <td>2954</td>\n",
       "      <td>9284</td>\n",
       "    </tr>\n",
       "    <tr>\n",
       "      <th>4257</th>\n",
       "      <td>17557</td>\n",
       "      <td>19042</td>\n",
       "    </tr>\n",
       "    <tr>\n",
       "      <th>4491</th>\n",
       "      <td>306556</td>\n",
       "      <td>324794</td>\n",
       "    </tr>\n",
       "    <tr>\n",
       "      <th>4749</th>\n",
       "      <td>20549</td>\n",
       "      <td>19200</td>\n",
       "    </tr>\n",
       "  </tbody>\n",
       "</table>\n",
       "<p>860 rows × 2 columns</p>\n",
       "</div>"
      ],
      "text/plain": [
       "side        Total Buy Quantity  Total Sell Quantity\n",
       "securityId                                         \n",
       "2                       219426               243127\n",
       "8                          200                    0\n",
       "13                      227077               232121\n",
       "22                           0                   10\n",
       "29                       74594                72795\n",
       "...                        ...                  ...\n",
       "3460                      1432                 1074\n",
       "3461                      2954                 9284\n",
       "4257                     17557                19042\n",
       "4491                    306556               324794\n",
       "4749                     20549                19200\n",
       "\n",
       "[860 rows x 2 columns]"
      ]
     },
     "execution_count": 185,
     "metadata": {},
     "output_type": "execute_result"
    }
   ],
   "source": [
    "df12_sum = (\n",
    "    df12_unique\n",
    "    .groupby(['securityId','side'])\n",
    "    .sum()\n",
    "    .loc[:,'quantity']\n",
    "    .unstack(level=-1)\n",
    "    .rename({'BUY':'Total Buy Quantity', 'SELL':'Total Sell Quantity'}, axis=1)\n",
    ")\n",
    "df12_sum"
   ]
  },
  {
   "cell_type": "code",
   "execution_count": 149,
   "id": "22a2359f",
   "metadata": {},
   "outputs": [
    {
     "data": {
      "text/html": [
       "<div>\n",
       "<style scoped>\n",
       "    .dataframe tbody tr th:only-of-type {\n",
       "        vertical-align: middle;\n",
       "    }\n",
       "\n",
       "    .dataframe tbody tr th {\n",
       "        vertical-align: top;\n",
       "    }\n",
       "\n",
       "    .dataframe thead th {\n",
       "        text-align: right;\n",
       "    }\n",
       "</style>\n",
       "<table border=\"1\" class=\"dataframe\">\n",
       "  <thead>\n",
       "    <tr style=\"text-align: right;\">\n",
       "      <th>side</th>\n",
       "      <th>Total Buy Count</th>\n",
       "      <th>Total Sell Count</th>\n",
       "    </tr>\n",
       "    <tr>\n",
       "      <th>securityId</th>\n",
       "      <th></th>\n",
       "      <th></th>\n",
       "    </tr>\n",
       "  </thead>\n",
       "  <tbody>\n",
       "    <tr>\n",
       "      <th>2</th>\n",
       "      <td>872</td>\n",
       "      <td>950</td>\n",
       "    </tr>\n",
       "    <tr>\n",
       "      <th>8</th>\n",
       "      <td>2</td>\n",
       "      <td>0</td>\n",
       "    </tr>\n",
       "    <tr>\n",
       "      <th>13</th>\n",
       "      <td>770</td>\n",
       "      <td>776</td>\n",
       "    </tr>\n",
       "    <tr>\n",
       "      <th>22</th>\n",
       "      <td>0</td>\n",
       "      <td>1</td>\n",
       "    </tr>\n",
       "    <tr>\n",
       "      <th>29</th>\n",
       "      <td>1601</td>\n",
       "      <td>1540</td>\n",
       "    </tr>\n",
       "    <tr>\n",
       "      <th>...</th>\n",
       "      <td>...</td>\n",
       "      <td>...</td>\n",
       "    </tr>\n",
       "    <tr>\n",
       "      <th>3460</th>\n",
       "      <td>4</td>\n",
       "      <td>3</td>\n",
       "    </tr>\n",
       "    <tr>\n",
       "      <th>3461</th>\n",
       "      <td>7</td>\n",
       "      <td>22</td>\n",
       "    </tr>\n",
       "    <tr>\n",
       "      <th>4257</th>\n",
       "      <td>83</td>\n",
       "      <td>94</td>\n",
       "    </tr>\n",
       "    <tr>\n",
       "      <th>4491</th>\n",
       "      <td>74</td>\n",
       "      <td>75</td>\n",
       "    </tr>\n",
       "    <tr>\n",
       "      <th>4749</th>\n",
       "      <td>133</td>\n",
       "      <td>127</td>\n",
       "    </tr>\n",
       "  </tbody>\n",
       "</table>\n",
       "<p>860 rows × 2 columns</p>\n",
       "</div>"
      ],
      "text/plain": [
       "side        Total Buy Count  Total Sell Count\n",
       "securityId                                   \n",
       "2                       872               950\n",
       "8                         2                 0\n",
       "13                      770               776\n",
       "22                        0                 1\n",
       "29                     1601              1540\n",
       "...                     ...               ...\n",
       "3460                      4                 3\n",
       "3461                      7                22\n",
       "4257                     83                94\n",
       "4491                     74                75\n",
       "4749                    133               127\n",
       "\n",
       "[860 rows x 2 columns]"
      ]
     },
     "execution_count": 149,
     "metadata": {},
     "output_type": "execute_result"
    }
   ],
   "source": [
    "df12_count = (\n",
    "    df12_unique\n",
    "    .groupby(['securityId', 'side'])\n",
    "    .count()\n",
    "    .loc[:, 'quantity']\n",
    "    .unstack(level=-1)\n",
    "    .rename({'BUY':'Total Buy Count', 'SELL':'Total Sell Count'}, axis=1)\n",
    ")\n",
    "df12_count"
   ]
  },
  {
   "cell_type": "code",
   "execution_count": 151,
   "id": "127db331",
   "metadata": {},
   "outputs": [
    {
     "name": "stderr",
     "output_type": "stream",
     "text": [
      "/tmp/ipykernel_345460/3966322277.py:1: SettingWithCopyWarning: \n",
      "A value is trying to be set on a copy of a slice from a DataFrame.\n",
      "Try using .loc[row_indexer,col_indexer] = value instead\n",
      "\n",
      "See the caveats in the documentation: https://pandas.pydata.org/pandas-docs/stable/user_guide/indexing.html#returning-a-view-versus-a-copy\n",
      "  df12_unique['weighted_price'] = (df12_unique['price']/df12_unique['quantity'])\n"
     ]
    },
    {
     "data": {
      "text/html": [
       "<div>\n",
       "<style scoped>\n",
       "    .dataframe tbody tr th:only-of-type {\n",
       "        vertical-align: middle;\n",
       "    }\n",
       "\n",
       "    .dataframe tbody tr th {\n",
       "        vertical-align: top;\n",
       "    }\n",
       "\n",
       "    .dataframe thead th {\n",
       "        text-align: right;\n",
       "    }\n",
       "</style>\n",
       "<table border=\"1\" class=\"dataframe\">\n",
       "  <thead>\n",
       "    <tr style=\"text-align: right;\">\n",
       "      <th>side</th>\n",
       "      <th>Weighted Average Buy Price</th>\n",
       "      <th>Weighted Average Sell Price</th>\n",
       "    </tr>\n",
       "    <tr>\n",
       "      <th>securityId</th>\n",
       "      <th></th>\n",
       "      <th></th>\n",
       "    </tr>\n",
       "  </thead>\n",
       "  <tbody>\n",
       "    <tr>\n",
       "      <th>2</th>\n",
       "      <td>695115.758248</td>\n",
       "      <td>558870.753888</td>\n",
       "    </tr>\n",
       "    <tr>\n",
       "      <th>8</th>\n",
       "      <td>1534.0</td>\n",
       "      <td>&lt;NA&gt;</td>\n",
       "    </tr>\n",
       "    <tr>\n",
       "      <th>13</th>\n",
       "      <td>23813.483875</td>\n",
       "      <td>15278.386506</td>\n",
       "    </tr>\n",
       "    <tr>\n",
       "      <th>22</th>\n",
       "      <td>&lt;NA&gt;</td>\n",
       "      <td>95800.0</td>\n",
       "    </tr>\n",
       "    <tr>\n",
       "      <th>29</th>\n",
       "      <td>23909402.611458</td>\n",
       "      <td>24192437.305632</td>\n",
       "    </tr>\n",
       "    <tr>\n",
       "      <th>...</th>\n",
       "      <td>...</td>\n",
       "      <td>...</td>\n",
       "    </tr>\n",
       "    <tr>\n",
       "      <th>3460</th>\n",
       "      <td>7381.98324</td>\n",
       "      <td>7402.234637</td>\n",
       "    </tr>\n",
       "    <tr>\n",
       "      <th>3461</th>\n",
       "      <td>5315.504401</td>\n",
       "      <td>5326.217148</td>\n",
       "    </tr>\n",
       "    <tr>\n",
       "      <th>4257</th>\n",
       "      <td>12286661.961952</td>\n",
       "      <td>1860744.358011</td>\n",
       "    </tr>\n",
       "    <tr>\n",
       "      <th>4491</th>\n",
       "      <td>2607.349215</td>\n",
       "      <td>2686.171372</td>\n",
       "    </tr>\n",
       "    <tr>\n",
       "      <th>4749</th>\n",
       "      <td>12246184.641297</td>\n",
       "      <td>11150567.736003</td>\n",
       "    </tr>\n",
       "  </tbody>\n",
       "</table>\n",
       "<p>860 rows × 2 columns</p>\n",
       "</div>"
      ],
      "text/plain": [
       "side        Weighted Average Buy Price  Weighted Average Sell Price\n",
       "securityId                                                         \n",
       "2                        695115.758248                558870.753888\n",
       "8                               1534.0                         <NA>\n",
       "13                        23813.483875                 15278.386506\n",
       "22                                <NA>                      95800.0\n",
       "29                     23909402.611458              24192437.305632\n",
       "...                                ...                          ...\n",
       "3460                        7381.98324                  7402.234637\n",
       "3461                       5315.504401                  5326.217148\n",
       "4257                   12286661.961952               1860744.358011\n",
       "4491                       2607.349215                  2686.171372\n",
       "4749                   12246184.641297              11150567.736003\n",
       "\n",
       "[860 rows x 2 columns]"
      ]
     },
     "execution_count": 151,
     "metadata": {},
     "output_type": "execute_result"
    }
   ],
   "source": [
    "df12_unique['weighted_price'] = (df12_unique['price']/df12_unique['quantity'])\n",
    "df12_weighted = (\n",
    "    df12_unique\n",
    "    .groupby(['securityId', 'side'])\n",
    "    .mean()\n",
    "    .loc[:, 'weighted_price']\n",
    "    .unstack()\n",
    "    .rename({'BUY':'Weighted Average Buy Price', 'SELL':'Weighted Average Sell Price'}, axis=1)\n",
    ")\n",
    "df12_weighted"
   ]
  },
  {
   "cell_type": "code",
   "execution_count": 210,
   "id": "aa1eeb28",
   "metadata": {},
   "outputs": [
    {
     "data": {
      "text/plain": [
       "securityId\n",
       "2       122350000\n",
       "8          153400\n",
       "13        3072000\n",
       "22           <NA>\n",
       "29      870600000\n",
       "          ...    \n",
       "3460      2652000\n",
       "3461      2250900\n",
       "4257    122300000\n",
       "4491      4770000\n",
       "4749    249200000\n",
       "Name: Max Buy Price, Length: 860, dtype: Int64"
      ]
     },
     "execution_count": 210,
     "metadata": {},
     "output_type": "execute_result"
    }
   ],
   "source": [
    "df12_max = (\n",
    "    df12_unique\n",
    "    .groupby(['securityId', 'side'])\n",
    "    .max()\n",
    "    .loc[:, 'price']\n",
    "    .unstack(level=-1)\n",
    "    .loc[:, 'BUY']\n",
    "    .rename(\"Max Buy Price\")\n",
    ")\n",
    "df12_max"
   ]
  },
  {
   "cell_type": "code",
   "execution_count": 211,
   "id": "40f2e8a6",
   "metadata": {},
   "outputs": [
    {
     "data": {
      "text/plain": [
       "securityId\n",
       "2       118000000\n",
       "8            <NA>\n",
       "13        2994000\n",
       "22         958000\n",
       "29      805600000\n",
       "          ...    \n",
       "3460      2638500\n",
       "3461      2240600\n",
       "4257    119000000\n",
       "4491      4445000\n",
       "4749    236400000\n",
       "Name: Min Sell Price, Length: 860, dtype: Int64"
      ]
     },
     "execution_count": 211,
     "metadata": {},
     "output_type": "execute_result"
    }
   ],
   "source": [
    "df12_min = (\n",
    "    df12_unique\n",
    "    .groupby(['securityId', 'side'])\n",
    "    .min()\n",
    "    .loc[:, 'price']\n",
    "    .unstack(level=-1)\n",
    "    .loc[:, 'SELL']\n",
    "    .rename(\"Min Sell Price\")\n",
    ")\n",
    "df12_min"
   ]
  },
  {
   "cell_type": "code",
   "execution_count": 212,
   "id": "0b6c8bc4",
   "metadata": {},
   "outputs": [],
   "source": [
    "df12_concat = pd.concat([df12_count, df12_sum, df12_weighted, df12_max, df12_min], axis=1)"
   ]
  },
  {
   "cell_type": "code",
   "execution_count": 213,
   "id": "059d5ecf",
   "metadata": {},
   "outputs": [
    {
     "data": {
      "text/html": [
       "<div>\n",
       "<style scoped>\n",
       "    .dataframe tbody tr th:only-of-type {\n",
       "        vertical-align: middle;\n",
       "    }\n",
       "\n",
       "    .dataframe tbody tr th {\n",
       "        vertical-align: top;\n",
       "    }\n",
       "\n",
       "    .dataframe thead th {\n",
       "        text-align: right;\n",
       "    }\n",
       "</style>\n",
       "<table border=\"1\" class=\"dataframe\">\n",
       "  <thead>\n",
       "    <tr style=\"text-align: right;\">\n",
       "      <th></th>\n",
       "      <th>Total Buy Count</th>\n",
       "      <th>Total Sell Count</th>\n",
       "      <th>Total Buy Quantity</th>\n",
       "      <th>Total Sell Quantity</th>\n",
       "      <th>Weighted Average Buy Price</th>\n",
       "      <th>Weighted Average Sell Price</th>\n",
       "      <th>Max Buy Price</th>\n",
       "      <th>Min Sell Price</th>\n",
       "    </tr>\n",
       "    <tr>\n",
       "      <th>securityId</th>\n",
       "      <th></th>\n",
       "      <th></th>\n",
       "      <th></th>\n",
       "      <th></th>\n",
       "      <th></th>\n",
       "      <th></th>\n",
       "      <th></th>\n",
       "      <th></th>\n",
       "    </tr>\n",
       "  </thead>\n",
       "  <tbody>\n",
       "    <tr>\n",
       "      <th>2</th>\n",
       "      <td>872</td>\n",
       "      <td>950</td>\n",
       "      <td>219426</td>\n",
       "      <td>243127</td>\n",
       "      <td>695115.758248</td>\n",
       "      <td>558870.753888</td>\n",
       "      <td>122350000</td>\n",
       "      <td>118000000</td>\n",
       "    </tr>\n",
       "    <tr>\n",
       "      <th>8</th>\n",
       "      <td>2</td>\n",
       "      <td>0</td>\n",
       "      <td>200</td>\n",
       "      <td>0</td>\n",
       "      <td>1534.0</td>\n",
       "      <td>&lt;NA&gt;</td>\n",
       "      <td>153400</td>\n",
       "      <td>&lt;NA&gt;</td>\n",
       "    </tr>\n",
       "    <tr>\n",
       "      <th>13</th>\n",
       "      <td>770</td>\n",
       "      <td>776</td>\n",
       "      <td>227077</td>\n",
       "      <td>232121</td>\n",
       "      <td>23813.483875</td>\n",
       "      <td>15278.386506</td>\n",
       "      <td>3072000</td>\n",
       "      <td>2994000</td>\n",
       "    </tr>\n",
       "    <tr>\n",
       "      <th>22</th>\n",
       "      <td>0</td>\n",
       "      <td>1</td>\n",
       "      <td>0</td>\n",
       "      <td>10</td>\n",
       "      <td>&lt;NA&gt;</td>\n",
       "      <td>95800.0</td>\n",
       "      <td>&lt;NA&gt;</td>\n",
       "      <td>958000</td>\n",
       "    </tr>\n",
       "    <tr>\n",
       "      <th>29</th>\n",
       "      <td>1601</td>\n",
       "      <td>1540</td>\n",
       "      <td>74594</td>\n",
       "      <td>72795</td>\n",
       "      <td>23909402.611458</td>\n",
       "      <td>24192437.305632</td>\n",
       "      <td>870600000</td>\n",
       "      <td>805600000</td>\n",
       "    </tr>\n",
       "    <tr>\n",
       "      <th>...</th>\n",
       "      <td>...</td>\n",
       "      <td>...</td>\n",
       "      <td>...</td>\n",
       "      <td>...</td>\n",
       "      <td>...</td>\n",
       "      <td>...</td>\n",
       "      <td>...</td>\n",
       "      <td>...</td>\n",
       "    </tr>\n",
       "    <tr>\n",
       "      <th>3460</th>\n",
       "      <td>4</td>\n",
       "      <td>3</td>\n",
       "      <td>1432</td>\n",
       "      <td>1074</td>\n",
       "      <td>7381.98324</td>\n",
       "      <td>7402.234637</td>\n",
       "      <td>2652000</td>\n",
       "      <td>2638500</td>\n",
       "    </tr>\n",
       "    <tr>\n",
       "      <th>3461</th>\n",
       "      <td>7</td>\n",
       "      <td>22</td>\n",
       "      <td>2954</td>\n",
       "      <td>9284</td>\n",
       "      <td>5315.504401</td>\n",
       "      <td>5326.217148</td>\n",
       "      <td>2250900</td>\n",
       "      <td>2240600</td>\n",
       "    </tr>\n",
       "    <tr>\n",
       "      <th>4257</th>\n",
       "      <td>83</td>\n",
       "      <td>94</td>\n",
       "      <td>17557</td>\n",
       "      <td>19042</td>\n",
       "      <td>12286661.961952</td>\n",
       "      <td>1860744.358011</td>\n",
       "      <td>122300000</td>\n",
       "      <td>119000000</td>\n",
       "    </tr>\n",
       "    <tr>\n",
       "      <th>4491</th>\n",
       "      <td>74</td>\n",
       "      <td>75</td>\n",
       "      <td>306556</td>\n",
       "      <td>324794</td>\n",
       "      <td>2607.349215</td>\n",
       "      <td>2686.171372</td>\n",
       "      <td>4770000</td>\n",
       "      <td>4445000</td>\n",
       "    </tr>\n",
       "    <tr>\n",
       "      <th>4749</th>\n",
       "      <td>133</td>\n",
       "      <td>127</td>\n",
       "      <td>20549</td>\n",
       "      <td>19200</td>\n",
       "      <td>12246184.641297</td>\n",
       "      <td>11150567.736003</td>\n",
       "      <td>249200000</td>\n",
       "      <td>236400000</td>\n",
       "    </tr>\n",
       "  </tbody>\n",
       "</table>\n",
       "<p>860 rows × 8 columns</p>\n",
       "</div>"
      ],
      "text/plain": [
       "            Total Buy Count  Total Sell Count  Total Buy Quantity  \\\n",
       "securityId                                                          \n",
       "2                       872               950              219426   \n",
       "8                         2                 0                 200   \n",
       "13                      770               776              227077   \n",
       "22                        0                 1                   0   \n",
       "29                     1601              1540               74594   \n",
       "...                     ...               ...                 ...   \n",
       "3460                      4                 3                1432   \n",
       "3461                      7                22                2954   \n",
       "4257                     83                94               17557   \n",
       "4491                     74                75              306556   \n",
       "4749                    133               127               20549   \n",
       "\n",
       "            Total Sell Quantity  Weighted Average Buy Price  \\\n",
       "securityId                                                    \n",
       "2                        243127               695115.758248   \n",
       "8                             0                      1534.0   \n",
       "13                       232121                23813.483875   \n",
       "22                           10                        <NA>   \n",
       "29                        72795             23909402.611458   \n",
       "...                         ...                         ...   \n",
       "3460                       1074                  7381.98324   \n",
       "3461                       9284                 5315.504401   \n",
       "4257                      19042             12286661.961952   \n",
       "4491                     324794                 2607.349215   \n",
       "4749                      19200             12246184.641297   \n",
       "\n",
       "            Weighted Average Sell Price  Max Buy Price  Min Sell Price  \n",
       "securityId                                                              \n",
       "2                         558870.753888      122350000       118000000  \n",
       "8                                  <NA>         153400            <NA>  \n",
       "13                         15278.386506        3072000         2994000  \n",
       "22                              95800.0           <NA>          958000  \n",
       "29                      24192437.305632      870600000       805600000  \n",
       "...                                 ...            ...             ...  \n",
       "3460                        7402.234637        2652000         2638500  \n",
       "3461                        5326.217148        2250900         2240600  \n",
       "4257                     1860744.358011      122300000       119000000  \n",
       "4491                        2686.171372        4770000         4445000  \n",
       "4749                    11150567.736003      249200000       236400000  \n",
       "\n",
       "[860 rows x 8 columns]"
      ]
     },
     "execution_count": 213,
     "metadata": {},
     "output_type": "execute_result"
    }
   ],
   "source": [
    "df12_concat"
   ]
  },
  {
   "cell_type": "markdown",
   "id": "35189d3f",
   "metadata": {},
   "source": [
    "Nice now I just need to join it with type8 dataframe"
   ]
  },
  {
   "cell_type": "code",
   "execution_count": 226,
   "id": "707d02f7",
   "metadata": {},
   "outputs": [],
   "source": [
    "df8_typed = (df8\n",
    ".drop(['umtf', 'mic', 'tickTableId'], axis=1)\n",
    ".astype({\n",
    "    'securityId': 'Int64',\n",
    "    'isin': 'string',\n",
    "    'currency': 'string'\n",
    "})\n",
    ")"
   ]
  },
  {
   "cell_type": "code",
   "execution_count": 242,
   "id": "f352ac76",
   "metadata": {},
   "outputs": [],
   "source": [
    "df8_indexed = (\n",
    "    df8_typed\n",
    "    .set_index('securityId')\n",
    "    .sort_index()\n",
    "    .rename({\n",
    "        'isin': 'ISIN',\n",
    "        'currency': 'Currency'\n",
    "    }, axis = 1 )\n",
    ")"
   ]
  },
  {
   "cell_type": "code",
   "execution_count": 235,
   "id": "22fbe4ca",
   "metadata": {},
   "outputs": [
    {
     "data": {
      "text/plain": [
       "792"
      ]
     },
     "execution_count": 235,
     "metadata": {},
     "output_type": "execute_result"
    }
   ],
   "source": [
    "len(set(df12_concat.index).intersection(set(df8_indexed.index)))"
   ]
  },
  {
   "cell_type": "code",
   "execution_count": 243,
   "id": "053835e9",
   "metadata": {},
   "outputs": [],
   "source": [
    "final_df = pd.concat([df8_indexed,df12_concat], join='inner', axis=1)"
   ]
  },
  {
   "cell_type": "code",
   "execution_count": 244,
   "id": "261f5dd8",
   "metadata": {},
   "outputs": [
    {
     "data": {
      "text/html": [
       "<div>\n",
       "<style scoped>\n",
       "    .dataframe tbody tr th:only-of-type {\n",
       "        vertical-align: middle;\n",
       "    }\n",
       "\n",
       "    .dataframe tbody tr th {\n",
       "        vertical-align: top;\n",
       "    }\n",
       "\n",
       "    .dataframe thead th {\n",
       "        text-align: right;\n",
       "    }\n",
       "</style>\n",
       "<table border=\"1\" class=\"dataframe\">\n",
       "  <thead>\n",
       "    <tr style=\"text-align: right;\">\n",
       "      <th></th>\n",
       "      <th>ISIN</th>\n",
       "      <th>Currency</th>\n",
       "      <th>Total Buy Count</th>\n",
       "      <th>Total Sell Count</th>\n",
       "      <th>Total Buy Quantity</th>\n",
       "      <th>Total Sell Quantity</th>\n",
       "      <th>Weighted Average Buy Price</th>\n",
       "      <th>Weighted Average Sell Price</th>\n",
       "      <th>Max Buy Price</th>\n",
       "      <th>Min Sell Price</th>\n",
       "    </tr>\n",
       "    <tr>\n",
       "      <th>securityId</th>\n",
       "      <th></th>\n",
       "      <th></th>\n",
       "      <th></th>\n",
       "      <th></th>\n",
       "      <th></th>\n",
       "      <th></th>\n",
       "      <th></th>\n",
       "      <th></th>\n",
       "      <th></th>\n",
       "      <th></th>\n",
       "    </tr>\n",
       "  </thead>\n",
       "  <tbody>\n",
       "    <tr>\n",
       "      <th>2</th>\n",
       "      <td>GB00B1YW4409</td>\n",
       "      <td>GBX</td>\n",
       "      <td>872</td>\n",
       "      <td>950</td>\n",
       "      <td>219426</td>\n",
       "      <td>243127</td>\n",
       "      <td>695115.758248</td>\n",
       "      <td>558870.753888</td>\n",
       "      <td>122350000</td>\n",
       "      <td>118000000</td>\n",
       "    </tr>\n",
       "    <tr>\n",
       "      <th>8</th>\n",
       "      <td>IT0001233417</td>\n",
       "      <td>EUR</td>\n",
       "      <td>2</td>\n",
       "      <td>0</td>\n",
       "      <td>200</td>\n",
       "      <td>0</td>\n",
       "      <td>1534.0</td>\n",
       "      <td>&lt;NA&gt;</td>\n",
       "      <td>153400</td>\n",
       "      <td>&lt;NA&gt;</td>\n",
       "    </tr>\n",
       "    <tr>\n",
       "      <th>13</th>\n",
       "      <td>CH0012221716</td>\n",
       "      <td>CHF</td>\n",
       "      <td>770</td>\n",
       "      <td>776</td>\n",
       "      <td>227077</td>\n",
       "      <td>232121</td>\n",
       "      <td>23813.483875</td>\n",
       "      <td>15278.386506</td>\n",
       "      <td>3072000</td>\n",
       "      <td>2994000</td>\n",
       "    </tr>\n",
       "    <tr>\n",
       "      <th>22</th>\n",
       "      <td>ES0132105018</td>\n",
       "      <td>EUR</td>\n",
       "      <td>0</td>\n",
       "      <td>1</td>\n",
       "      <td>0</td>\n",
       "      <td>10</td>\n",
       "      <td>&lt;NA&gt;</td>\n",
       "      <td>95800.0</td>\n",
       "      <td>&lt;NA&gt;</td>\n",
       "      <td>958000</td>\n",
       "    </tr>\n",
       "    <tr>\n",
       "      <th>29</th>\n",
       "      <td>IE00BWT6H894</td>\n",
       "      <td>GBX</td>\n",
       "      <td>1601</td>\n",
       "      <td>1540</td>\n",
       "      <td>74594</td>\n",
       "      <td>72795</td>\n",
       "      <td>23909402.611458</td>\n",
       "      <td>24192437.305632</td>\n",
       "      <td>870600000</td>\n",
       "      <td>805600000</td>\n",
       "    </tr>\n",
       "    <tr>\n",
       "      <th>...</th>\n",
       "      <td>...</td>\n",
       "      <td>...</td>\n",
       "      <td>...</td>\n",
       "      <td>...</td>\n",
       "      <td>...</td>\n",
       "      <td>...</td>\n",
       "      <td>...</td>\n",
       "      <td>...</td>\n",
       "      <td>...</td>\n",
       "      <td>...</td>\n",
       "    </tr>\n",
       "    <tr>\n",
       "      <th>3453</th>\n",
       "      <td>LU0252633754</td>\n",
       "      <td>EUR</td>\n",
       "      <td>28</td>\n",
       "      <td>28</td>\n",
       "      <td>19600</td>\n",
       "      <td>19436</td>\n",
       "      <td>17958.061224</td>\n",
       "      <td>18231.624277</td>\n",
       "      <td>12858000</td>\n",
       "      <td>12416000</td>\n",
       "    </tr>\n",
       "    <tr>\n",
       "      <th>3461</th>\n",
       "      <td>FR0010361683</td>\n",
       "      <td>EUR</td>\n",
       "      <td>7</td>\n",
       "      <td>22</td>\n",
       "      <td>2954</td>\n",
       "      <td>9284</td>\n",
       "      <td>5315.504401</td>\n",
       "      <td>5326.217148</td>\n",
       "      <td>2250900</td>\n",
       "      <td>2240600</td>\n",
       "    </tr>\n",
       "    <tr>\n",
       "      <th>4257</th>\n",
       "      <td>GB0000667013</td>\n",
       "      <td>GBX</td>\n",
       "      <td>83</td>\n",
       "      <td>94</td>\n",
       "      <td>17557</td>\n",
       "      <td>19042</td>\n",
       "      <td>12286661.961952</td>\n",
       "      <td>1860744.358011</td>\n",
       "      <td>122300000</td>\n",
       "      <td>119000000</td>\n",
       "    </tr>\n",
       "    <tr>\n",
       "      <th>4491</th>\n",
       "      <td>IL0010849045</td>\n",
       "      <td>GBX</td>\n",
       "      <td>74</td>\n",
       "      <td>75</td>\n",
       "      <td>306556</td>\n",
       "      <td>324794</td>\n",
       "      <td>2607.349215</td>\n",
       "      <td>2686.171372</td>\n",
       "      <td>4770000</td>\n",
       "      <td>4445000</td>\n",
       "    </tr>\n",
       "    <tr>\n",
       "      <th>4749</th>\n",
       "      <td>GB00BYZN9041</td>\n",
       "      <td>GBX</td>\n",
       "      <td>133</td>\n",
       "      <td>127</td>\n",
       "      <td>20549</td>\n",
       "      <td>19200</td>\n",
       "      <td>12246184.641297</td>\n",
       "      <td>11150567.736003</td>\n",
       "      <td>249200000</td>\n",
       "      <td>236400000</td>\n",
       "    </tr>\n",
       "  </tbody>\n",
       "</table>\n",
       "<p>792 rows × 10 columns</p>\n",
       "</div>"
      ],
      "text/plain": [
       "                    ISIN Currency  Total Buy Count  Total Sell Count  \\\n",
       "securityId                                                             \n",
       "2           GB00B1YW4409      GBX              872               950   \n",
       "8           IT0001233417      EUR                2                 0   \n",
       "13          CH0012221716      CHF              770               776   \n",
       "22          ES0132105018      EUR                0                 1   \n",
       "29          IE00BWT6H894      GBX             1601              1540   \n",
       "...                  ...      ...              ...               ...   \n",
       "3453        LU0252633754      EUR               28                28   \n",
       "3461        FR0010361683      EUR                7                22   \n",
       "4257        GB0000667013      GBX               83                94   \n",
       "4491        IL0010849045      GBX               74                75   \n",
       "4749        GB00BYZN9041      GBX              133               127   \n",
       "\n",
       "            Total Buy Quantity  Total Sell Quantity  \\\n",
       "securityId                                            \n",
       "2                       219426               243127   \n",
       "8                          200                    0   \n",
       "13                      227077               232121   \n",
       "22                           0                   10   \n",
       "29                       74594                72795   \n",
       "...                        ...                  ...   \n",
       "3453                     19600                19436   \n",
       "3461                      2954                 9284   \n",
       "4257                     17557                19042   \n",
       "4491                    306556               324794   \n",
       "4749                     20549                19200   \n",
       "\n",
       "            Weighted Average Buy Price  Weighted Average Sell Price  \\\n",
       "securityId                                                            \n",
       "2                        695115.758248                558870.753888   \n",
       "8                               1534.0                         <NA>   \n",
       "13                        23813.483875                 15278.386506   \n",
       "22                                <NA>                      95800.0   \n",
       "29                     23909402.611458              24192437.305632   \n",
       "...                                ...                          ...   \n",
       "3453                      17958.061224                 18231.624277   \n",
       "3461                       5315.504401                  5326.217148   \n",
       "4257                   12286661.961952               1860744.358011   \n",
       "4491                       2607.349215                  2686.171372   \n",
       "4749                   12246184.641297              11150567.736003   \n",
       "\n",
       "            Max Buy Price  Min Sell Price  \n",
       "securityId                                 \n",
       "2               122350000       118000000  \n",
       "8                  153400            <NA>  \n",
       "13                3072000         2994000  \n",
       "22                   <NA>          958000  \n",
       "29              870600000       805600000  \n",
       "...                   ...             ...  \n",
       "3453             12858000        12416000  \n",
       "3461              2250900         2240600  \n",
       "4257            122300000       119000000  \n",
       "4491              4770000         4445000  \n",
       "4749            249200000       236400000  \n",
       "\n",
       "[792 rows x 10 columns]"
      ]
     },
     "execution_count": 244,
     "metadata": {},
     "output_type": "execute_result"
    }
   ],
   "source": [
    "final_df"
   ]
  },
  {
   "cell_type": "markdown",
   "id": "7e3be8fd",
   "metadata": {},
   "source": [
    "In case I need the exact same header as the email"
   ]
  },
  {
   "cell_type": "code",
   "execution_count": 246,
   "id": "712767ac",
   "metadata": {},
   "outputs": [
    {
     "data": {
      "text/plain": [
       "'ISIN | Currency | Total Buy Count | Total Sell Count | Total Buy Quantity | Total Sell Quantity | Weighted Average Buy Price | Weighted Average Sell Price | Max Buy Price | Min Sell Price'"
      ]
     },
     "execution_count": 246,
     "metadata": {},
     "output_type": "execute_result"
    }
   ],
   "source": [
    "\" | \".join(final_df.columns)"
   ]
  },
  {
   "cell_type": "code",
   "execution_count": 249,
   "id": "7e5c58d8",
   "metadata": {},
   "outputs": [],
   "source": [
    "final_df.to_csv(\"aggregate_notebook.tsv\", sep='\\t', na_rep='NA', index=False)"
   ]
  },
  {
   "cell_type": "markdown",
   "id": "e94f14b4",
   "metadata": {},
   "source": [
    "Ok now to clean up, use proper naming and proper formatting -> main.py and ausiliary files"
   ]
  },
  {
   "cell_type": "code",
   "execution_count": null,
   "id": "0d0f233c",
   "metadata": {},
   "outputs": [],
   "source": []
  }
 ],
 "metadata": {
  "kernelspec": {
   "display_name": "Python 3 (ipykernel)",
   "language": "python",
   "name": "python3"
  },
  "language_info": {
   "codemirror_mode": {
    "name": "ipython",
    "version": 3
   },
   "file_extension": ".py",
   "mimetype": "text/x-python",
   "name": "python",
   "nbconvert_exporter": "python",
   "pygments_lexer": "ipython3",
   "version": "3.10.2"
  }
 },
 "nbformat": 4,
 "nbformat_minor": 5
}
